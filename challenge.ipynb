{
 "cells": [
  {
   "cell_type": "markdown",
   "metadata": {
    "colab_type": "text",
    "id": "Yq5ldQMB37UQ"
   },
   "source": [
    "# Challenge Teamcore \n",
    "\n",
    "Para este desafio se espera que trabajes con los datos del archivo `data.csv` que se encuentra junto con este archivo. Te recomendamos copiar este archivo y la data en tu propio Drive para poder editarlo y trabajar en el. \n",
    "\n",
    "### Objetivo\n",
    "\n",
    "Realizar un forecast de la venta de productos afectados por promociones.\n",
    "\n",
    "### Descripcion:\n",
    "\n",
    "El set de datos con el que trabjará consiste en 1000 series de tiempo de distintos productos. La idea es poder predecir de manera precisa cuanto es la venta de un producto cuando se encuentra en un periodo de promocion (como recomendacion está esta [lectura sugerida](https://krannert.purdue.edu/masters/business-analytics-and-information-management/student-experiences/experiential-learning/2018/an-analytical-approach-for-understanding-promotion-effects-on-demand-and-improving-profits.php?) la cual sirve de referencia, pero no es necesario que se basen en ella ni que necesarimente usen las metodologias y features que aparecen ahi). Los datos son series de tiempo del mundo real, por lo tanto los datos pueden venir sucios, ruidosos, etc. \n",
    "Usted tiene la libertad total para utilizar cualquier modelo, ténica de extracción de feature, etc, para lograr cumplir el objetivo, además de ser capaz de presentar sus resultados de la manera mas clara posible\n",
    "\n",
    "### Data:\n",
    "* Columnas:\n",
    "    * ID: Corresponde al identificador del producto\n",
    "    * cadena: cadena a la que pertenece el producto\n",
    "    * fecha: Dia en el que fue extraido el dato\n",
    "    * venta_unidades_dia: Unidades que se vendieron ese dia\n",
    "    * venta_clp_dia: Dinero total que se ganó por las unidades vendidas \n",
    "    * is_promo. Booleano que es 0 cuando el producto no estuvo en promoción y 1 cuando si lo estuvo:\n",
    "    * promo_ID: Identificador de la promocion (un prodcuto puede estar promocionados muchas veces o de manera seguida con diferentes promociones)\n",
    "\n",
    "### Fecha limite:\n",
    "\n",
    "### Ouput: \n",
    "Enviar jupyter con resultados a "
   ]
  },
  {
   "cell_type": "markdown",
   "metadata": {
    "colab_type": "text",
    "id": "p9_wbEvR7w8h"
   },
   "source": [
    "## Respuesta"
   ]
  },
  {
   "cell_type": "markdown",
   "metadata": {},
   "source": [
    "Primero que todo se considera relevante mencionar que el enfoque a utilizar dependerá del objetivo principal del pronóstico solicitado.Se estima que éste puede ser analizado desde dos perspectivas en términos generales: desde la perspectiva de gestión logística o cadena de suministro, o desde el punto de vista de la estrategia o inteligencia de negocios.\n",
    "\n",
    "Desde la primera perspectiva mencionada se considera que hacer el pronóstico de las unidades a vender es más adecuado mientras que si el objetivo principal es el análisis desde el punto de vista de la estrategia o inteligencia de negocios se considera más razonable hacer el pronóstico de las ventas (utilidad por ventas - no está claro segúna la descripción si es utilidad o solo ingreso, pero para efectos de el presente trabajo se considerará como utilidad - ). Dado que no se especifican las características de las promociones, las unidades vendidas pueden incrementar de forma drástica con promociones muy atractivas para los consumidores mientras que los ingresos no necesariamente. "
   ]
  },
  {
   "cell_type": "code",
   "execution_count": 1,
   "metadata": {
    "colab": {
     "base_uri": "https://localhost:8080/",
     "height": 191
    },
    "colab_type": "code",
    "executionInfo": {
     "elapsed": 830,
     "status": "ok",
     "timestamp": 1579706978374,
     "user": {
      "displayName": "Freddie Venegas",
      "photoUrl": "https://lh3.googleusercontent.com/a-/AAuE7mDW2AkMz23qT_9ONQEQDL2m7ygrJWeAWRAl2ET9=s64",
      "userId": "01198952169987867087"
     },
     "user_tz": 180
    },
    "id": "SaPqiRgm2feN",
    "outputId": "4d6a3351-dfdc-4742-d60e-c06bed335546"
   },
   "outputs": [
    {
     "name": "stderr",
     "output_type": "stream",
     "text": [
      "INFO     [utils.py:141] NumExpr defaulting to 8 threads.\n"
     ]
    },
    {
     "name": "stdout",
     "output_type": "stream",
     "text": [
      "<class 'pandas.core.frame.DataFrame'>\n",
      "RangeIndex: 251358 entries, 0 to 251357\n",
      "Data columns (total 7 columns):\n",
      " #   Column              Non-Null Count   Dtype         \n",
      "---  ------              --------------   -----         \n",
      " 0   ID                  251358 non-null  int64         \n",
      " 1   cadena              251358 non-null  int64         \n",
      " 2   fecha               251358 non-null  datetime64[ns]\n",
      " 3   venta_unidades_dia  245834 non-null  float64       \n",
      " 4   venta_clp_dia       245834 non-null  float64       \n",
      " 5   is_promo            251358 non-null  int64         \n",
      " 6   promo_ID            113728 non-null  object        \n",
      "dtypes: datetime64[ns](1), float64(2), int64(3), object(1)\n",
      "memory usage: 13.4+ MB\n"
     ]
    }
   ],
   "source": [
    "import pandas as pd\n",
    "import numpy as np\n",
    "import matplotlib.pyplot as plt\n",
    "import seaborn as sns\n",
    "import matplotlib as mpl\n",
    "import progressbar\n",
    "import pickle\n",
    "from datetime import timedelta\n",
    "from scipy.stats import mannwhitneyu\n",
    "\n",
    "from merf.merf import MERF\n",
    "from xgboost import XGBRegressor\n",
    "from sklearn.metrics import r2_score, mean_absolute_error\n",
    "from hypopt import GridSearch\n",
    "\n",
    "\n",
    "\n",
    "\n",
    "PATH = 'data.csv'\n",
    "df = pd.read_csv(PATH)\n",
    "df.fecha = pd.to_datetime(df.fecha, errors = 'raise')\n",
    "\n",
    "df.info()"
   ]
  },
  {
   "cell_type": "code",
   "execution_count": 2,
   "metadata": {},
   "outputs": [
    {
     "data": {
      "text/html": [
       "<div>\n",
       "<style scoped>\n",
       "    .dataframe tbody tr th:only-of-type {\n",
       "        vertical-align: middle;\n",
       "    }\n",
       "\n",
       "    .dataframe tbody tr th {\n",
       "        vertical-align: top;\n",
       "    }\n",
       "\n",
       "    .dataframe thead th {\n",
       "        text-align: right;\n",
       "    }\n",
       "</style>\n",
       "<table border=\"1\" class=\"dataframe\">\n",
       "  <thead>\n",
       "    <tr style=\"text-align: right;\">\n",
       "      <th></th>\n",
       "      <th>ID</th>\n",
       "      <th>cadena</th>\n",
       "      <th>venta_unidades_dia</th>\n",
       "      <th>venta_clp_dia</th>\n",
       "      <th>is_promo</th>\n",
       "    </tr>\n",
       "  </thead>\n",
       "  <tbody>\n",
       "    <tr>\n",
       "      <th>count</th>\n",
       "      <td>251358.000000</td>\n",
       "      <td>251358.000000</td>\n",
       "      <td>245834.000000</td>\n",
       "      <td>2.458340e+05</td>\n",
       "      <td>251358.000000</td>\n",
       "    </tr>\n",
       "    <tr>\n",
       "      <th>mean</th>\n",
       "      <td>168.374780</td>\n",
       "      <td>3.109179</td>\n",
       "      <td>175.213314</td>\n",
       "      <td>3.386545e+05</td>\n",
       "      <td>0.474542</td>\n",
       "    </tr>\n",
       "    <tr>\n",
       "      <th>std</th>\n",
       "      <td>111.990448</td>\n",
       "      <td>1.786093</td>\n",
       "      <td>714.243545</td>\n",
       "      <td>9.322262e+05</td>\n",
       "      <td>0.499352</td>\n",
       "    </tr>\n",
       "    <tr>\n",
       "      <th>min</th>\n",
       "      <td>0.000000</td>\n",
       "      <td>0.000000</td>\n",
       "      <td>0.000000</td>\n",
       "      <td>0.000000e+00</td>\n",
       "      <td>0.000000</td>\n",
       "    </tr>\n",
       "    <tr>\n",
       "      <th>25%</th>\n",
       "      <td>76.000000</td>\n",
       "      <td>2.000000</td>\n",
       "      <td>19.000000</td>\n",
       "      <td>4.275384e+04</td>\n",
       "      <td>0.000000</td>\n",
       "    </tr>\n",
       "    <tr>\n",
       "      <th>50%</th>\n",
       "      <td>156.000000</td>\n",
       "      <td>3.000000</td>\n",
       "      <td>54.000000</td>\n",
       "      <td>1.105579e+05</td>\n",
       "      <td>0.000000</td>\n",
       "    </tr>\n",
       "    <tr>\n",
       "      <th>75%</th>\n",
       "      <td>251.000000</td>\n",
       "      <td>5.000000</td>\n",
       "      <td>130.000000</td>\n",
       "      <td>2.670640e+05</td>\n",
       "      <td>1.000000</td>\n",
       "    </tr>\n",
       "    <tr>\n",
       "      <th>max</th>\n",
       "      <td>412.000000</td>\n",
       "      <td>6.000000</td>\n",
       "      <td>66093.000000</td>\n",
       "      <td>8.978288e+07</td>\n",
       "      <td>1.000000</td>\n",
       "    </tr>\n",
       "  </tbody>\n",
       "</table>\n",
       "</div>"
      ],
      "text/plain": [
       "                  ID         cadena  venta_unidades_dia  venta_clp_dia  \\\n",
       "count  251358.000000  251358.000000       245834.000000   2.458340e+05   \n",
       "mean      168.374780       3.109179          175.213314   3.386545e+05   \n",
       "std       111.990448       1.786093          714.243545   9.322262e+05   \n",
       "min         0.000000       0.000000            0.000000   0.000000e+00   \n",
       "25%        76.000000       2.000000           19.000000   4.275384e+04   \n",
       "50%       156.000000       3.000000           54.000000   1.105579e+05   \n",
       "75%       251.000000       5.000000          130.000000   2.670640e+05   \n",
       "max       412.000000       6.000000        66093.000000   8.978288e+07   \n",
       "\n",
       "            is_promo  \n",
       "count  251358.000000  \n",
       "mean        0.474542  \n",
       "std         0.499352  \n",
       "min         0.000000  \n",
       "25%         0.000000  \n",
       "50%         0.000000  \n",
       "75%         1.000000  \n",
       "max         1.000000  "
      ]
     },
     "execution_count": 2,
     "metadata": {},
     "output_type": "execute_result"
    }
   ],
   "source": [
    "df.describe()"
   ]
  },
  {
   "cell_type": "code",
   "execution_count": 3,
   "metadata": {},
   "outputs": [
    {
     "name": "stdout",
     "output_type": "stream",
     "text": [
      "1: Non-null, 0: otherwise\n"
     ]
    },
    {
     "data": {
      "image/png": "[encoded data removed]",
      "text/plain": [
       "<Figure size 432x288 with 2 Axes>"
      ]
     },
     "metadata": {
      "needs_background": "light"
     },
     "output_type": "display_data"
    }
   ],
   "source": [
    "aux = df.sort_values('fecha')\n",
    "aux['date_fmt'] = aux.fecha.apply(lambda date: date.strftime('%b'))\n",
    "aux = aux.drop('fecha', axis = 1)\n",
    "aux = aux.set_index('date_fmt')\n",
    "sns.heatmap(1-aux.isnull(), cmap = plt.get_cmap('viridis',2))\n",
    "plt.ylabel('2019')\n",
    "plt.title('Non-null values')\n",
    "print('1: Non-null, 0: otherwise')"
   ]
  },
  {
   "cell_type": "markdown",
   "metadata": {},
   "source": [
    "La base de datos está ordenada solo por fecha por lo que hay que considerar que la distribución de los campos faltantes en promo_id puede estar asociado también a los campos de producto y cadena."
   ]
  },
  {
   "cell_type": "code",
   "execution_count": 4,
   "metadata": {},
   "outputs": [],
   "source": [
    "df.set_index(['ID', 'cadena','fecha'], inplace = True)\n",
    "df.sort_index(level = [0,1,2],inplace = True)"
   ]
  },
  {
   "cell_type": "code",
   "execution_count": 5,
   "metadata": {},
   "outputs": [
    {
     "name": "stdout",
     "output_type": "stream",
     "text": [
      "La base de datos posee un total de 413 productos y 7 cadenas.\n",
      "Considerando una serie por producto y cadena, hay un total de 1000 series en la base de datos\n"
     ]
    }
   ],
   "source": [
    "unique_id = df.index.get_level_values(0).drop_duplicates()\n",
    "unique_cadena = df.index.get_level_values(1).drop_duplicates()\n",
    "\n",
    "print('La base de datos posee un total de {} productos y {} cadenas.'.format(len(unique_id), len(unique_cadena)))\n",
    "print('Considerando una serie por producto y cadena, hay un total de {} series en la base de datos'.format(len(df.index.droplevel(2).drop_duplicates())))                                                                 "
   ]
  },
  {
   "cell_type": "markdown",
   "metadata": {},
   "source": [
    "Imputación de filas para la continuidad de cada serie para analizar datos faltantes en función de la fecha y permitir la utilización de criterios de imputación.\n",
    "\n",
    "**El ciclo iterativo es por cada serie, no por cada fila**.\n",
    "El método pandas.DataFrame.groupby sólo posee métodos aggregate(),filter(), transform(), y apply() lo que hace imposible la aplicación del método  pandas.DataFrame.asfreq en un objeto groupby para la imputación de fechas faltantes por serie. Esto se hace con el objetivo de poder completar las series bajo algún criterio en caso de decidir utilizar algún método que requiera de series continuas."
   ]
  },
  {
   "cell_type": "code",
   "execution_count": 6,
   "metadata": {},
   "outputs": [
    {
     "name": "stderr",
     "output_type": "stream",
     "text": [
      "[========================================================================] 100%\r"
     ]
    },
    {
     "name": "stdout",
     "output_type": "stream",
     "text": [
      "6867 filas correspondientes a fechas faltantes fueron añadidas.\n"
     ]
    },
    {
     "name": "stderr",
     "output_type": "stream",
     "text": [
      "\n"
     ]
    }
   ],
   "source": [
    "uncomplete = []\n",
    "series = df.index.droplevel(2).drop_duplicates()\n",
    "i = 0\n",
    "\n",
    "pbar = progressbar.ProgressBar(maxval=1000,widgets=[progressbar.Bar('=', '[', ']'), ' ', progressbar.Percentage()])\n",
    "pbar.start()\n",
    "for product, chain in series:\n",
    "    aux_panel = df.loc[(product,chain,slice(None)),:]\n",
    "    aux_panel.index = aux_panel.index.droplevel([0,1])\n",
    "    aux_panel = aux_panel.asfreq('D', fill_value = np.nan)\n",
    "    aux_panel.index = pd.MultiIndex.from_product([[product],[chain], aux_panel.index])\n",
    "    if i ==0 : df_01 = aux_panel\n",
    "    else: df_01 = pd.concat([df_01, aux_panel])\n",
    "    uncomplete.append(aux_panel.drop(level = 2, labels = df.loc[(product,chain,slice(None)),:].\n",
    "                                                  index.droplevel([0,1])).index)\n",
    "    i = i+1\n",
    "    pbar.update(i)\n",
    "pbar.finish()\n",
    "df_01.rename_axis(['ID','cadena','fecha'], inplace = True)\n",
    "print('{} filas correspondientes a fechas faltantes fueron añadidas.'.format(df_01.shape[0]-df.shape[0]))"
   ]
  },
  {
   "cell_type": "code",
   "execution_count": 7,
   "metadata": {},
   "outputs": [
    {
     "name": "stdout",
     "output_type": "stream",
     "text": [
      "1: Non-null, 0: otherwise\n"
     ]
    },
    {
     "data": {
      "image/png": "[encoded data removed]",
      "text/plain": [
       "<Figure size 432x288 with 2 Axes>"
      ]
     },
     "metadata": {
      "needs_background": "light"
     },
     "output_type": "display_data"
    }
   ],
   "source": [
    "aux = df_01.copy()\n",
    "aux.reset_index(inplace = True)\n",
    "aux.sort_values('fecha', inplace = True)\n",
    "aux['date_fmt'] = aux.fecha.apply(lambda date: date.strftime('%b'))\n",
    "aux = aux.drop('fecha', axis = 1)\n",
    "aux = aux.set_index('date_fmt')\n",
    "sns.heatmap(1-aux.isnull(), cmap = plt.get_cmap('viridis',2))\n",
    "plt.ylabel('2019')\n",
    "plt.title('Non-null values')\n",
    "print('1: Non-null, 0: otherwise')"
   ]
  },
  {
   "cell_type": "code",
   "execution_count": 8,
   "metadata": {},
   "outputs": [
    {
     "data": {
      "text/html": [
       "<div>\n",
       "<style scoped>\n",
       "    .dataframe tbody tr th:only-of-type {\n",
       "        vertical-align: middle;\n",
       "    }\n",
       "\n",
       "    .dataframe tbody tr th {\n",
       "        vertical-align: top;\n",
       "    }\n",
       "\n",
       "    .dataframe thead th {\n",
       "        text-align: right;\n",
       "    }\n",
       "</style>\n",
       "<table border=\"1\" class=\"dataframe\">\n",
       "  <thead>\n",
       "    <tr style=\"text-align: right;\">\n",
       "      <th></th>\n",
       "      <th></th>\n",
       "      <th></th>\n",
       "      <th>venta_unidades_dia</th>\n",
       "      <th>venta_clp_dia</th>\n",
       "      <th>is_promo</th>\n",
       "      <th>promo_ID</th>\n",
       "    </tr>\n",
       "    <tr>\n",
       "      <th>ID</th>\n",
       "      <th>cadena</th>\n",
       "      <th>fecha</th>\n",
       "      <th></th>\n",
       "      <th></th>\n",
       "      <th></th>\n",
       "      <th></th>\n",
       "    </tr>\n",
       "  </thead>\n",
       "  <tbody>\n",
       "    <tr>\n",
       "      <th rowspan=\"5\" valign=\"top\">0</th>\n",
       "      <th rowspan=\"5\" valign=\"top\">0</th>\n",
       "      <th>2019-04-09</th>\n",
       "      <td>38.0</td>\n",
       "      <td>81434.0</td>\n",
       "      <td>0.0</td>\n",
       "      <td>NaN</td>\n",
       "    </tr>\n",
       "    <tr>\n",
       "      <th>2019-04-10</th>\n",
       "      <td>64.0</td>\n",
       "      <td>137152.0</td>\n",
       "      <td>0.0</td>\n",
       "      <td>NaN</td>\n",
       "    </tr>\n",
       "    <tr>\n",
       "      <th>2019-04-11</th>\n",
       "      <td>67.0</td>\n",
       "      <td>143581.0</td>\n",
       "      <td>0.0</td>\n",
       "      <td>NaN</td>\n",
       "    </tr>\n",
       "    <tr>\n",
       "      <th>2019-04-12</th>\n",
       "      <td>55.0</td>\n",
       "      <td>117865.0</td>\n",
       "      <td>0.0</td>\n",
       "      <td>NaN</td>\n",
       "    </tr>\n",
       "    <tr>\n",
       "      <th>2019-04-13</th>\n",
       "      <td>108.0</td>\n",
       "      <td>231444.0</td>\n",
       "      <td>0.0</td>\n",
       "      <td>NaN</td>\n",
       "    </tr>\n",
       "  </tbody>\n",
       "</table>\n",
       "</div>"
      ],
      "text/plain": [
       "                      venta_unidades_dia  venta_clp_dia  is_promo promo_ID\n",
       "ID cadena fecha                                                           \n",
       "0  0      2019-04-09                38.0        81434.0       0.0      NaN\n",
       "          2019-04-10                64.0       137152.0       0.0      NaN\n",
       "          2019-04-11                67.0       143581.0       0.0      NaN\n",
       "          2019-04-12                55.0       117865.0       0.0      NaN\n",
       "          2019-04-13               108.0       231444.0       0.0      NaN"
      ]
     },
     "execution_count": 8,
     "metadata": {},
     "output_type": "execute_result"
    }
   ],
   "source": [
    "df_01.head(5)"
   ]
  },
  {
   "cell_type": "code",
   "execution_count": 9,
   "metadata": {},
   "outputs": [
    {
     "data": {
      "text/html": [
       "<div>\n",
       "<style scoped>\n",
       "    .dataframe tbody tr th:only-of-type {\n",
       "        vertical-align: middle;\n",
       "    }\n",
       "\n",
       "    .dataframe tbody tr th {\n",
       "        vertical-align: top;\n",
       "    }\n",
       "\n",
       "    .dataframe thead th {\n",
       "        text-align: right;\n",
       "    }\n",
       "</style>\n",
       "<table border=\"1\" class=\"dataframe\">\n",
       "  <thead>\n",
       "    <tr style=\"text-align: right;\">\n",
       "      <th></th>\n",
       "      <th>count</th>\n",
       "      <th>mean</th>\n",
       "      <th>std</th>\n",
       "      <th>min</th>\n",
       "      <th>25%</th>\n",
       "      <th>50%</th>\n",
       "      <th>75%</th>\n",
       "      <th>max</th>\n",
       "    </tr>\n",
       "    <tr>\n",
       "      <th>is_promo</th>\n",
       "      <th></th>\n",
       "      <th></th>\n",
       "      <th></th>\n",
       "      <th></th>\n",
       "      <th></th>\n",
       "      <th></th>\n",
       "      <th></th>\n",
       "      <th></th>\n",
       "    </tr>\n",
       "  </thead>\n",
       "  <tbody>\n",
       "    <tr>\n",
       "      <th>0.0</th>\n",
       "      <td>132078.0</td>\n",
       "      <td>283824.0</td>\n",
       "      <td>823802.0</td>\n",
       "      <td>0.0</td>\n",
       "      <td>33658.0</td>\n",
       "      <td>94075.0</td>\n",
       "      <td>231923.0</td>\n",
       "      <td>56992717.0</td>\n",
       "    </tr>\n",
       "    <tr>\n",
       "      <th>1.0</th>\n",
       "      <td>113756.0</td>\n",
       "      <td>402317.0</td>\n",
       "      <td>1040467.0</td>\n",
       "      <td>0.0</td>\n",
       "      <td>55575.0</td>\n",
       "      <td>130232.0</td>\n",
       "      <td>314306.0</td>\n",
       "      <td>89782876.0</td>\n",
       "    </tr>\n",
       "  </tbody>\n",
       "</table>\n",
       "</div>"
      ],
      "text/plain": [
       "             count      mean        std  min      25%       50%       75%  \\\n",
       "is_promo                                                                    \n",
       "0.0       132078.0  283824.0   823802.0  0.0  33658.0   94075.0  231923.0   \n",
       "1.0       113756.0  402317.0  1040467.0  0.0  55575.0  130232.0  314306.0   \n",
       "\n",
       "                 max  \n",
       "is_promo              \n",
       "0.0       56992717.0  \n",
       "1.0       89782876.0  "
      ]
     },
     "execution_count": 9,
     "metadata": {},
     "output_type": "execute_result"
    }
   ],
   "source": [
    "df_01.groupby('is_promo').venta_clp_dia.describe().round(0)"
   ]
  },
  {
   "cell_type": "code",
   "execution_count": 10,
   "metadata": {},
   "outputs": [
    {
     "data": {
      "image/png": "[encoded data removed]",
      "text/plain": [
       "<Figure size 432x288 with 1 Axes>"
      ]
     },
     "metadata": {
      "needs_background": "light"
     },
     "output_type": "display_data"
    }
   ],
   "source": [
    "bars = plt.bar(['No promotion','Promotion'],df_01.groupby('is_promo').count().venta_clp_dia,zorder = 3 )\n",
    "total = df_01.groupby('is_promo').count().venta_clp_dia.sum()\n",
    "for bar in bars:\n",
    "    height = bar.get_height()\n",
    "    plt.gca().text(bar.get_x() + bar.get_width()/2, bar.get_height() - 15000,'{:.0f}%'.format(int(height)/total*100), \n",
    "                 ha='center', color='w', fontsize=11)\n",
    "    \n",
    "for spine in plt.gca().spines.values():\n",
    "    spine.set_visible(False)\n",
    "    \n",
    "plt.tick_params(left = False)\n",
    "plt.tick_params(bottom = False)\n",
    "\n",
    "plt.grid(axis = 'y', zorder = 3)\n",
    "\n",
    "plt.gca().yaxis.set_major_formatter(mpl.ticker.FuncFormatter(lambda x, p: format(int(x), ',')))\n",
    "plt.title('N° of samples in promotion period');"
   ]
  },
  {
   "cell_type": "code",
   "execution_count": 11,
   "metadata": {},
   "outputs": [
    {
     "name": "stdout",
     "output_type": "stream",
     "text": [
      "El promedio de ventas en período de promoción es un 41.75% mayor al promedio de ventas en períodos normales.\n",
      "MannwhitneyuResult(statistic=6429772097.0, pvalue=0.0)\n"
     ]
    }
   ],
   "source": [
    "aux = df_01.groupby('is_promo').venta_clp_dia.describe()\n",
    "print('El promedio de ventas en período de promoción es un {:.2f}% mayor al promedio de ventas en períodos normales.'.\n",
    "     format(aux['mean'].pct_change().iloc[1]*100))\n",
    "\n",
    "stat = mannwhitneyu(df_01.loc[df_01.is_promo == 0,'venta_clp_dia'],df_01.loc[df_01.is_promo == 1,'venta_clp_dia'])\n",
    "print(stat)"
   ]
  },
  {
   "cell_type": "markdown",
   "metadata": {},
   "source": [
    "Si bien la diferencia de medias es significativa, esto no necesariamente indica que este aumento se debe particularmente al efecto de las promociones. Este efecto puede ser causado por la coincidencia temporal de las promociones con segmentos estacionales de alta demanda o debido a que promociones recientes estén afectando a productos con efectos significativos de tendencia, por lo que en estos casos, el aumento de ventas estaría más asociado a efectos temporales de la serie."
   ]
  },
  {
   "cell_type": "markdown",
   "metadata": {},
   "source": [
    "Visualización de series por producto"
   ]
  },
  {
   "cell_type": "code",
   "execution_count": 12,
   "metadata": {},
   "outputs": [
    {
     "data": {
      "image/png": "[encoded data removed]",
      "text/plain": [
       "<Figure size 1080x432 with 1 Axes>"
      ]
     },
     "metadata": {
      "needs_background": "light"
     },
     "output_type": "display_data"
    }
   ],
   "source": [
    "#plt.style.use('seaborn-white')\n",
    "fig, ax  = plt.subplots(figsize = (15,6))\n",
    "\n",
    "\n",
    "\n",
    "aux = df_01.loc[(series[0][0], series[0][1], slice(None)),:]\n",
    "aux.index = aux.index.droplevel([0,1])\n",
    "\n",
    "ax.plot(aux.index, aux.venta_clp_dia, 'k', label = 'Sales', alpha = 0.5)\n",
    "rolling_avg = aux.rolling(window = 7).mean()\n",
    "ax.plot(rolling_avg.index, rolling_avg.venta_clp_dia,'b-', label = '7-day sales rolling average')\n",
    "# ax.plot(aux.loc[aux.is_promo ==1].index,aux.loc[aux.is_promo ==1,'venta_clp_dia'], 'rx')\n",
    "#aux.plot(ax = ax1, color = 'r')\n",
    "\n",
    "\n",
    "#ax.set_ylabel('Sales [clp]')\n",
    "month_fmt = mpl.dates.DateFormatter('%B')\n",
    "ax.xaxis.set_major_formatter(month_fmt)\n",
    "ax.yaxis.set_major_formatter(plt.FuncFormatter(lambda x, p: format(int(x), ',')))\n",
    "promo = aux.is_promo.shift()-aux.is_promo\n",
    "for i in range(promo[promo==1].shape[0]):\n",
    "    if i == 0: ax.axvspan(promo[promo==1].index[i], promo[promo==-1].index[i], alpha=0.1, color='red', label ='Promotion')\n",
    "    else: ax.axvspan(promo[promo==1].index[i], promo[promo==-1].index[i], alpha=0.1, color='red')\n",
    "    \n",
    "plt.legend()\n",
    "plt.title('Sales [CLP] of product \\'{}\\' in chain \\'{}\\' and promotion effect'.format(series[0][0],series[0][1]));\n",
    "\n"
   ]
  },
  {
   "cell_type": "code",
   "execution_count": 13,
   "metadata": {},
   "outputs": [],
   "source": [
    "# pbar = progressbar.ProgressBar(maxval=1000,widgets=[progressbar.Bar('=', '[', ']'), ' ', progressbar.Percentage()])\n",
    "# pbar.start()\n",
    "# j = 0\n",
    "# for serie in series: \n",
    "    \n",
    "#     plt.close()\n",
    "#     fig, ax  = plt.subplots(figsize = (15,6))\n",
    "\n",
    "#     aux = df_01.loc[(serie[0], serie[1], slice(None)),:]\n",
    "#     aux.index = aux.index.droplevel([0,1])\n",
    "\n",
    "#     ax.plot(aux.index, aux.venta_clp_dia, 'k', label = 'Sales', alpha = 0.5)\n",
    "#     rolling_avg = aux.rolling(window = 7).mean()\n",
    "#     ax.plot(rolling_avg.index, rolling_avg.venta_clp_dia,'b-', label = '7-day sales rolling average')\n",
    "\n",
    "\n",
    "#     #ax.set_ylabel('Sales [clp]')\n",
    "#     month_fmt = mpl.dates.DateFormatter('%B')\n",
    "#     ax.xaxis.set_major_formatter(month_fmt)\n",
    "#     ax.yaxis.set_major_formatter(plt.FuncFormatter(lambda x, p: format(int(x), ',')))\n",
    "#     promo = aux.is_promo.shift()-aux.is_promo\n",
    "#     for i in range(promo[promo==1].shape[0]):\n",
    "#         if promo[promo==1].shape[0] == 0: break\n",
    "#         if i == 0: \n",
    "#             try:ax.axvspan(promo[promo==1].index[i], promo[promo==-1].index[i], alpha=0.1, color='red', label ='Promotion period')\n",
    "#             except: ax.axvspan(promo[promo==1].index[i], aux.index[-1], alpha=0.1, color='red', label = 'Promotion period')\n",
    "#         else: \n",
    "#             try:ax.axvspan(promo[promo==1].index[i], promo[promo==-1].index[i], alpha=0.1, color='red')\n",
    "#             except: ax.axvspan(promo[promo==1].index[i], aux.index[-1], alpha=0.1, color='red')\n",
    "\n",
    "#     plt.legend()\n",
    "#     plt.title('Sales [CLP] of product \\'{}\\' in chain \\'{}\\' and promotion effect'.format(serie[0],serie[1]));\n",
    "    \n",
    "#     plt.savefig('Individual series\\individual serie{},{}.png'.format(serie[0],serie[1]))\n",
    "#     j = j+1\n",
    "#     pbar.update(j)\n",
    "# pbar.finish()"
   ]
  },
  {
   "cell_type": "code",
   "execution_count": 14,
   "metadata": {},
   "outputs": [],
   "source": [
    "# products = df_01.index.droplevel([1,2]).drop_duplicates()\n",
    "# pbar = progressbar.ProgressBar(maxval=1000,widgets=[progressbar.Bar('=', '[', ']'), ' ', progressbar.Percentage()])\n",
    "# pbar.start()\n",
    "# j = 0\n",
    "# for product in products:\n",
    "#     chains = df_01.loc[(product, slice(None),slice(None)),:].index.droplevel([0,2]).drop_duplicates()\n",
    "#     plt.close()\n",
    "#     fig, ax = plt.subplots(figsize = (15,6))\n",
    "#     for chain in chains:\n",
    "#         aux = df_01.loc[(product,chain, slice(None)),'venta_clp_dia']\n",
    "#         aux.index = aux.index.droplevel([0,1])\n",
    "#         ax.plot(aux.index, aux, label = 'chain {}'.format(chain))\n",
    "#     plt.title('Sales [CLP] of product \\'{}\\''.format(product))\n",
    "#     plt.legend()\n",
    "#     month_fmt = mpl.dates.DateFormatter('%B')\n",
    "#     ax.xaxis.set_major_formatter(month_fmt)\n",
    "#     ax.yaxis.set_major_formatter(plt.FuncFormatter(lambda x, p: format(int(x), ',')))\n",
    "#     #plt.ylabel('Sales [clp]')\n",
    "#     plt.savefig('Product series\\product {}.png'.format(product))\n",
    "#     j = j+1\n",
    "#     pbar.update(j)\n",
    "# pbar.finish()"
   ]
  },
  {
   "cell_type": "code",
   "execution_count": 15,
   "metadata": {},
   "outputs": [],
   "source": [
    "# products = df_01.index.droplevel([1,2]).drop_duplicates()\n",
    "# pbar = progressbar.ProgressBar(maxval=1000,widgets=[progressbar.Bar('=', '[', ']'), ' ', progressbar.Percentage()])\n",
    "# pbar.start()\n",
    "# j = 0\n",
    "# for product in products:\n",
    "#     chains = df_01.loc[(product, slice(None),slice(None)),:].index.droplevel([0,2]).drop_duplicates()\n",
    "#     plt.close()\n",
    "#     fig, ax = plt.subplots(figsize = (15,6))\n",
    "#     for chain in chains:\n",
    "#         aux = df_01.loc[(product,chain, slice(None)),'venta_clp_dia'].rolling(window = 7).mean()\n",
    "#         aux.index = aux.index.droplevel([0,1])\n",
    "#         ax.plot(aux.index, aux, label = 'chain {}'.format(chain))\n",
    "#     plt.title('7-day sales rolling average [CLP] of product \\'{}\\''.format(product))\n",
    "#     plt.legend()\n",
    "#     month_fmt = mpl.dates.DateFormatter('%B')\n",
    "#     ax.xaxis.set_major_formatter(month_fmt)\n",
    "#     ax.yaxis.set_major_formatter(plt.FuncFormatter(lambda x, p: format(int(x), ',')))\n",
    "#     #plt.ylabel('Sales [clp]')\n",
    "#     plt.savefig('Product rolling average series\\product {}.png'.format(product))\n",
    "#     j = j+1\n",
    "#     pbar.update(j)\n",
    "# pbar.finish()"
   ]
  },
  {
   "cell_type": "markdown",
   "metadata": {},
   "source": [
    "Se observa que las series están altamente correlacionadas en términos cruzados con sus pares de cadenas diferentes. Junto con esto y a grandes rasgos se observa que la gran mayoría de las series tienden a ser estacionales con un una periodicidad mensual.\n",
    "\n",
    "Se observa por otra parte que el comportamiento entre productos es bastante heterogéneo.\n",
    "\n",
    "**VER LOS GRÁFICOS EN LAS CARPETAS RESPECTIVAS**"
   ]
  },
  {
   "cell_type": "code",
   "execution_count": 16,
   "metadata": {},
   "outputs": [
    {
     "data": {
      "image/png": "[encoded data removed]",
      "text/plain": [
       "<Figure size 432x288 with 1 Axes>"
      ]
     },
     "metadata": {
      "needs_background": "light"
     },
     "output_type": "display_data"
    }
   ],
   "source": [
    "aux = df_01.reset_index()[['cadena','ID']].groupby('cadena')['ID'].nunique()\n",
    "aux.plot(kind = 'bar', zorder = 3)\n",
    "plt.xlabel('chain');\n",
    "plt.tick_params(rotation = 0, bottom = False, left = False)\n",
    "plt.title('Unique products per chain')\n",
    "for spine in plt.gca().spines.values():\n",
    "    spine.set_visible(False)\n",
    "plt.grid(axis = 'y', zorder = 0)"
   ]
  },
  {
   "cell_type": "code",
   "execution_count": 17,
   "metadata": {},
   "outputs": [
    {
     "name": "stdout",
     "output_type": "stream",
     "text": [
      "Hay 59 promociones de productos diferentes\n"
     ]
    }
   ],
   "source": [
    "print('Hay {} promociones de productos diferentes'.format(df_01.nunique()['promo_ID']))"
   ]
  },
  {
   "cell_type": "code",
   "execution_count": 18,
   "metadata": {},
   "outputs": [
    {
     "data": {
      "image/png": "[encoded data removed]",
      "text/plain": [
       "<Figure size 432x288 with 1 Axes>"
      ]
     },
     "metadata": {
      "needs_background": "light"
     },
     "output_type": "display_data"
    }
   ],
   "source": [
    "#sns.distplot(df_01.groupby(['ID', 'cadena']).promo_ID.nunique(), kde = False)\n",
    "sns.countplot(df_01.groupby(['ID', 'cadena']).promo_ID.nunique(), color = '#1F77B4', zorder = 3)\n",
    "\n",
    "plt.title('Frequency of N° of unique promos per serie');\n",
    "plt.xlabel(None)\n",
    "plt.ylabel(None)\n",
    "for spine in plt.gca().spines.values():\n",
    "    spine.set_visible(False)\n",
    "    \n",
    "plt.tick_params(bottom = False, left = False)\n",
    "plt.grid(axis = 'y', zorder = 0)"
   ]
  },
  {
   "cell_type": "markdown",
   "metadata": {},
   "source": [
    "La mayoría de las series poseen entre 3 y 5 promociones diferentes. Esto es por producto por cadena."
   ]
  },
  {
   "cell_type": "code",
   "execution_count": 19,
   "metadata": {},
   "outputs": [
    {
     "data": {
      "image/png": "[encoded data removed]",
      "text/plain": [
       "<Figure size 432x288 with 1 Axes>"
      ]
     },
     "metadata": {
      "needs_background": "light"
     },
     "output_type": "display_data"
    }
   ],
   "source": [
    "aux = df_01.reset_index().groupby('promo_ID')['ID'].nunique()\n",
    "sns.distplot(aux, bins = 30, kde = False)\n",
    "plt.title('Distribution of unique products per promo');\n",
    "plt.xlabel(None)\n",
    "plt.axvline(aux.mean(), color = 'r')\n",
    "plt.text(aux.mean()-17, 4, r'$\\mu$ = {:.0f}'.format(aux.mean()), color = 'r',horizontalalignment='center' );"
   ]
  },
  {
   "cell_type": "markdown",
   "metadata": {},
   "source": [
    "Cada promoción afecta en promedio a 73 productos."
   ]
  },
  {
   "cell_type": "markdown",
   "metadata": {},
   "source": [
    "Es importante recalcar que dado que no se tiene el detalle de la promoción, no es posible analizar la elasticidad de la demanda de los productos, por lo se está restringido a un enfoque más generalizado respecto al impacto de las promociones en las ventas."
   ]
  },
  {
   "cell_type": "markdown",
   "metadata": {},
   "source": [
    "Dado que es razonable que las promociones tengan impactos diferentes sobre los productos sería ideal poder tener en consideración un efecto único por promoción. Sin embargo, dado que la cardinalidad del conjunto de promociones es alta, la utilización de variables binarias generaría una matriz de diseño bastante espurea, lo que perjudicial para muchos modelos. Una alternativa para utilizar esta información es la utilización de modelos que permitan considerar el efecto de la promoción como un efecto aleatorio, sin embargo, dado el contexto se cree que es más beneficioso utilizar una única variable dicotómica de promoción."
   ]
  },
  {
   "cell_type": "code",
   "execution_count": 20,
   "metadata": {},
   "outputs": [
    {
     "data": {
      "image/png": "[encoded data removed]",
      "text/plain": [
       "<Figure size 432x288 with 1 Axes>"
      ]
     },
     "metadata": {
      "needs_background": "light"
     },
     "output_type": "display_data"
    }
   ],
   "source": [
    "#Número de obs. por serie\n",
    "sns.distplot(df_01.groupby(['ID','cadena']).count().venta_unidades_dia, kde = False, color = 'r')\n",
    "plt.xlabel(None)\n",
    "plt.title('Samples per serie distribution');"
   ]
  },
  {
   "cell_type": "code",
   "execution_count": 21,
   "metadata": {},
   "outputs": [
    {
     "data": {
      "image/png": "[encoded data removed]",
      "text/plain": [
       "<Figure size 432x288 with 1 Axes>"
      ]
     },
     "metadata": {
      "needs_background": "light"
     },
     "output_type": "display_data"
    }
   ],
   "source": [
    "#Número de obs. por serie\n",
    "sns.distplot(df_01.groupby(['ID']).count().venta_unidades_dia, kde = False, color = 'r')\n",
    "plt.xlabel(None)\n",
    "plt.title('Samples per product distribution');"
   ]
  },
  {
   "cell_type": "markdown",
   "metadata": {},
   "source": [
    "El número de observaciones por serie y por producto es reducido, por lo que utilizar modelos individuales (por serie/producto) debiesen tender a sobreajustarse a menos que sean parametrizados de tal manera de configurar modelos de muy baja varianza y alto sesgo."
   ]
  },
  {
   "cell_type": "markdown",
   "metadata": {},
   "source": [
    "Codificación temporal de obervaciones(“Day of Year”, “Month of Year”, ”Day of Week”, etc) debido a la estacionalidad de las series. Dado que la serie corresponde sólo al año 2019, no tiene sentido la codificación de día del año."
   ]
  },
  {
   "cell_type": "code",
   "execution_count": 22,
   "metadata": {},
   "outputs": [
    {
     "data": {
      "text/html": [
       "<div>\n",
       "<style scoped>\n",
       "    .dataframe tbody tr th:only-of-type {\n",
       "        vertical-align: middle;\n",
       "    }\n",
       "\n",
       "    .dataframe tbody tr th {\n",
       "        vertical-align: top;\n",
       "    }\n",
       "\n",
       "    .dataframe thead th {\n",
       "        text-align: right;\n",
       "    }\n",
       "</style>\n",
       "<table border=\"1\" class=\"dataframe\">\n",
       "  <thead>\n",
       "    <tr style=\"text-align: right;\">\n",
       "      <th></th>\n",
       "      <th></th>\n",
       "      <th></th>\n",
       "      <th>venta_unidades_dia</th>\n",
       "      <th>venta_clp_dia</th>\n",
       "      <th>is_promo</th>\n",
       "      <th>dia_semana_0</th>\n",
       "      <th>dia_semana_1</th>\n",
       "      <th>dia_semana_2</th>\n",
       "      <th>dia_semana_3</th>\n",
       "      <th>dia_semana_4</th>\n",
       "      <th>dia_semana_5</th>\n",
       "      <th>dia_semana_6</th>\n",
       "      <th>...</th>\n",
       "      <th>dia_mes_29</th>\n",
       "      <th>dia_mes_30</th>\n",
       "      <th>dia_mes_31</th>\n",
       "      <th>cadena_0</th>\n",
       "      <th>cadena_1</th>\n",
       "      <th>cadena_2</th>\n",
       "      <th>cadena_3</th>\n",
       "      <th>cadena_4</th>\n",
       "      <th>cadena_5</th>\n",
       "      <th>cadena_6</th>\n",
       "    </tr>\n",
       "    <tr>\n",
       "      <th>ID</th>\n",
       "      <th>cadena</th>\n",
       "      <th>fecha</th>\n",
       "      <th></th>\n",
       "      <th></th>\n",
       "      <th></th>\n",
       "      <th></th>\n",
       "      <th></th>\n",
       "      <th></th>\n",
       "      <th></th>\n",
       "      <th></th>\n",
       "      <th></th>\n",
       "      <th></th>\n",
       "      <th></th>\n",
       "      <th></th>\n",
       "      <th></th>\n",
       "      <th></th>\n",
       "      <th></th>\n",
       "      <th></th>\n",
       "      <th></th>\n",
       "      <th></th>\n",
       "      <th></th>\n",
       "      <th></th>\n",
       "      <th></th>\n",
       "    </tr>\n",
       "  </thead>\n",
       "  <tbody>\n",
       "    <tr>\n",
       "      <th rowspan=\"5\" valign=\"top\">0</th>\n",
       "      <th rowspan=\"5\" valign=\"top\">0</th>\n",
       "      <th>2019-04-09</th>\n",
       "      <td>38.0</td>\n",
       "      <td>81434.0</td>\n",
       "      <td>0.0</td>\n",
       "      <td>0</td>\n",
       "      <td>1</td>\n",
       "      <td>0</td>\n",
       "      <td>0</td>\n",
       "      <td>0</td>\n",
       "      <td>0</td>\n",
       "      <td>0</td>\n",
       "      <td>...</td>\n",
       "      <td>0</td>\n",
       "      <td>0</td>\n",
       "      <td>0</td>\n",
       "      <td>1</td>\n",
       "      <td>0</td>\n",
       "      <td>0</td>\n",
       "      <td>0</td>\n",
       "      <td>0</td>\n",
       "      <td>0</td>\n",
       "      <td>0</td>\n",
       "    </tr>\n",
       "    <tr>\n",
       "      <th>2019-04-10</th>\n",
       "      <td>64.0</td>\n",
       "      <td>137152.0</td>\n",
       "      <td>0.0</td>\n",
       "      <td>0</td>\n",
       "      <td>0</td>\n",
       "      <td>1</td>\n",
       "      <td>0</td>\n",
       "      <td>0</td>\n",
       "      <td>0</td>\n",
       "      <td>0</td>\n",
       "      <td>...</td>\n",
       "      <td>0</td>\n",
       "      <td>0</td>\n",
       "      <td>0</td>\n",
       "      <td>1</td>\n",
       "      <td>0</td>\n",
       "      <td>0</td>\n",
       "      <td>0</td>\n",
       "      <td>0</td>\n",
       "      <td>0</td>\n",
       "      <td>0</td>\n",
       "    </tr>\n",
       "    <tr>\n",
       "      <th>2019-04-11</th>\n",
       "      <td>67.0</td>\n",
       "      <td>143581.0</td>\n",
       "      <td>0.0</td>\n",
       "      <td>0</td>\n",
       "      <td>0</td>\n",
       "      <td>0</td>\n",
       "      <td>1</td>\n",
       "      <td>0</td>\n",
       "      <td>0</td>\n",
       "      <td>0</td>\n",
       "      <td>...</td>\n",
       "      <td>0</td>\n",
       "      <td>0</td>\n",
       "      <td>0</td>\n",
       "      <td>1</td>\n",
       "      <td>0</td>\n",
       "      <td>0</td>\n",
       "      <td>0</td>\n",
       "      <td>0</td>\n",
       "      <td>0</td>\n",
       "      <td>0</td>\n",
       "    </tr>\n",
       "    <tr>\n",
       "      <th>2019-04-12</th>\n",
       "      <td>55.0</td>\n",
       "      <td>117865.0</td>\n",
       "      <td>0.0</td>\n",
       "      <td>0</td>\n",
       "      <td>0</td>\n",
       "      <td>0</td>\n",
       "      <td>0</td>\n",
       "      <td>1</td>\n",
       "      <td>0</td>\n",
       "      <td>0</td>\n",
       "      <td>...</td>\n",
       "      <td>0</td>\n",
       "      <td>0</td>\n",
       "      <td>0</td>\n",
       "      <td>1</td>\n",
       "      <td>0</td>\n",
       "      <td>0</td>\n",
       "      <td>0</td>\n",
       "      <td>0</td>\n",
       "      <td>0</td>\n",
       "      <td>0</td>\n",
       "    </tr>\n",
       "    <tr>\n",
       "      <th>2019-04-13</th>\n",
       "      <td>108.0</td>\n",
       "      <td>231444.0</td>\n",
       "      <td>0.0</td>\n",
       "      <td>0</td>\n",
       "      <td>0</td>\n",
       "      <td>0</td>\n",
       "      <td>0</td>\n",
       "      <td>0</td>\n",
       "      <td>1</td>\n",
       "      <td>0</td>\n",
       "      <td>...</td>\n",
       "      <td>0</td>\n",
       "      <td>0</td>\n",
       "      <td>0</td>\n",
       "      <td>1</td>\n",
       "      <td>0</td>\n",
       "      <td>0</td>\n",
       "      <td>0</td>\n",
       "      <td>0</td>\n",
       "      <td>0</td>\n",
       "      <td>0</td>\n",
       "    </tr>\n",
       "  </tbody>\n",
       "</table>\n",
       "<p>5 rows × 48 columns</p>\n",
       "</div>"
      ],
      "text/plain": [
       "                      venta_unidades_dia  venta_clp_dia  is_promo  \\\n",
       "ID cadena fecha                                                     \n",
       "0  0      2019-04-09                38.0        81434.0       0.0   \n",
       "          2019-04-10                64.0       137152.0       0.0   \n",
       "          2019-04-11                67.0       143581.0       0.0   \n",
       "          2019-04-12                55.0       117865.0       0.0   \n",
       "          2019-04-13               108.0       231444.0       0.0   \n",
       "\n",
       "                      dia_semana_0  dia_semana_1  dia_semana_2  dia_semana_3  \\\n",
       "ID cadena fecha                                                                \n",
       "0  0      2019-04-09             0             1             0             0   \n",
       "          2019-04-10             0             0             1             0   \n",
       "          2019-04-11             0             0             0             1   \n",
       "          2019-04-12             0             0             0             0   \n",
       "          2019-04-13             0             0             0             0   \n",
       "\n",
       "                      dia_semana_4  dia_semana_5  dia_semana_6  ...  \\\n",
       "ID cadena fecha                                                 ...   \n",
       "0  0      2019-04-09             0             0             0  ...   \n",
       "          2019-04-10             0             0             0  ...   \n",
       "          2019-04-11             0             0             0  ...   \n",
       "          2019-04-12             1             0             0  ...   \n",
       "          2019-04-13             0             1             0  ...   \n",
       "\n",
       "                      dia_mes_29  dia_mes_30  dia_mes_31  cadena_0  cadena_1  \\\n",
       "ID cadena fecha                                                                \n",
       "0  0      2019-04-09           0           0           0         1         0   \n",
       "          2019-04-10           0           0           0         1         0   \n",
       "          2019-04-11           0           0           0         1         0   \n",
       "          2019-04-12           0           0           0         1         0   \n",
       "          2019-04-13           0           0           0         1         0   \n",
       "\n",
       "                      cadena_2  cadena_3  cadena_4  cadena_5  cadena_6  \n",
       "ID cadena fecha                                                         \n",
       "0  0      2019-04-09         0         0         0         0         0  \n",
       "          2019-04-10         0         0         0         0         0  \n",
       "          2019-04-11         0         0         0         0         0  \n",
       "          2019-04-12         0         0         0         0         0  \n",
       "          2019-04-13         0         0         0         0         0  \n",
       "\n",
       "[5 rows x 48 columns]"
      ]
     },
     "execution_count": 22,
     "metadata": {},
     "output_type": "execute_result"
    }
   ],
   "source": [
    "#dia semana, dia mes\n",
    "res = df_01.reset_index()\n",
    "res.index = df_01.index\n",
    "df_02 = df_01.copy()\n",
    "\n",
    "df_02['dia_semana'] = res.fecha.apply(lambda x: x.dayofweek)\n",
    "df_02['dia_mes'] = res.fecha.apply(lambda x: x.day)\n",
    "df_02['cadena'] = res.cadena\n",
    "df_02 = pd.get_dummies(df_02,columns = ['dia_semana','dia_mes','cadena']) \n",
    "df_02.drop('promo_ID', axis = 1, inplace = True)\n",
    "#df_02['is_cero'] = df_02['venta_clp_dia'].apply(lambda x: 1 if x==0 else 0)\n",
    "df_02.head()                                                 "
   ]
  },
  {
   "cell_type": "code",
   "execution_count": 23,
   "metadata": {},
   "outputs": [],
   "source": [
    "def create_lag(var,shift,df):\n",
    "    '''This function is only usable in a dataframe with MultIindex ['ID','cadena','fecha'].\n",
    "    It adds a new column to the input df  with shifted periods (days)'''\n",
    "    \n",
    "\n",
    "    aux_series = pd.Series(dtype=np.float)\n",
    "    for serie in series:\n",
    "        aux = df.loc[(serie[0],serie[1],slice(None)),var].sort_index().shift(shift) #level 0 index is lost when loc indexing.\n",
    "        aux_series = pd.concat([aux_series,aux]) #When concatenating, the MultiIndex casts to a tuple index.\n",
    "        \n",
    "    aux_series.name = '{} - lag{}'.format(var,shift)\n",
    "    aux_series.index = pd.MultiIndex.from_tuples(aux_series.index) #Casting back to a MultiIndex\n",
    "    aux_series.rename_axis(['ID', 'cadena', 'fecha'], inplace = True)\n",
    "    df = pd.merge(df, aux_series, left_index=True,right_index=True)\n",
    "    return df"
   ]
  },
  {
   "cell_type": "code",
   "execution_count": 24,
   "metadata": {},
   "outputs": [
    {
     "name": "stdout",
     "output_type": "stream",
     "text": [
      "lagging variable 'venta_clp_dia' 1 period\n",
      "lagging variable 'venta_clp_dia' 2 periods\n",
      "lagging variable 'venta_clp_dia' 3 periods\n",
      "lagging variable 'venta_clp_dia' 4 periods\n",
      "lagging variable 'venta_clp_dia' 5 periods\n",
      "lagging variable 'venta_clp_dia' 6 periods\n",
      "lagging variable 'venta_clp_dia' 7 periods\n"
     ]
    }
   ],
   "source": [
    "max_lag = 7 #All columns lagged upto 8 cuarters. I.e. 2 years\n",
    "for lag in range(1,max_lag+1):\n",
    "    if lag ==1:print('lagging variable \\'venta_clp_dia\\' {} period'.format(lag))\n",
    "    else:print('lagging variable \\'venta_clp_dia\\' {} periods'.format(lag))\n",
    "    df_02 = create_lag('venta_clp_dia',lag,df_02)    "
   ]
  },
  {
   "cell_type": "markdown",
   "metadata": {},
   "source": [
    "**Considerar usar One-hot encoder de sklearn en caso de integrar el proceso con pipeline para el pronóstico sistematizado. **\n",
    "\n",
    "**Precaución con la columna de unidades de venta. Posee multicolinealidad casi perfecta con las ventas.**"
   ]
  },
  {
   "cell_type": "markdown",
   "metadata": {},
   "source": [
    "Utilizar un enfoque basado en modelos estadísticos tradicionales como modelos ARMA, ARIMA, SARIMA, etc. no es factible ya que para su correcta aplicación es necesario la incorporación de un proceso manual para identificar los modelos apropiados para cada serie además de un proceso iterativo de transformaciones correspondientes de acuerdo con el modelo seleccionado y la serie en cuestión."
   ]
  },
  {
   "cell_type": "markdown",
   "metadata": {},
   "source": [
    "El enfoque de descomposición aditiva de las series requiere de series continuas sin valores faltantes. **Precaución con el método de tratamiento de los NAN values (Esto es, data-leakage mediante la filtración del target value en el modelo)**"
   ]
  },
  {
   "cell_type": "code",
   "execution_count": 25,
   "metadata": {
    "scrolled": true
   },
   "outputs": [],
   "source": [
    "# #Descomposición aditiva de la serie: y(t) = Level + Trend + Seasonality + Noise\n",
    "# aux = df_01.loc[(0,0,slice(None)),:].venta_unidades_dia\n",
    "# #aux = aux.dropna()\n",
    "# aux.index = aux.index.droplevel([0,1])\n",
    "\n",
    "\n",
    "# from statsmodels.tsa.seasonal import seasonal_decompose\n",
    "# serie = aux.sort_index()\n",
    "# result = seasonal_decompose(serie.fillna(method = 'ffill'), model='additive',period = 30)\n",
    "# print(result.trend)\n",
    "# print(result.seasonal)\n",
    "# print(result.resid)\n",
    "# print(result.observed)\n",
    "\n",
    "\n",
    "# result.plot()\n",
    "# print(aux.shape[0])"
   ]
  },
  {
   "cell_type": "markdown",
   "metadata": {},
   "source": [
    "Por el momento no fue factible la utilización de esta técnica en el análisis debido a que una vez entregado el modelo de pronóstico para su uso, no sería posible calcular los valores de nivel, tendencia y estacionalidad para observaciones futuras."
   ]
  },
  {
   "cell_type": "code",
   "execution_count": 26,
   "metadata": {},
   "outputs": [
    {
     "data": {
      "text/plain": [
       "<matplotlib.axes._subplots.AxesSubplot at 0x25e99d3f430>"
      ]
     },
     "execution_count": 26,
     "metadata": {},
     "output_type": "execute_result"
    },
    {
     "data": {
      "image/png": "[encoded data removed]",
      "text/plain": [
       "<Figure size 864x432 with 2 Axes>"
      ]
     },
     "metadata": {
      "needs_background": "light"
     },
     "output_type": "display_data"
    }
   ],
   "source": [
    "plt.figure(figsize = (12,6))\n",
    "sns.heatmap(1-df_02.sort_index(level = 2).isnull(), cmap = plt.get_cmap('viridis',2))"
   ]
  },
  {
   "cell_type": "markdown",
   "metadata": {},
   "source": [
    "Optimización de hyperparámetros de modelo XGBoost y ajuste de modelo de efectos mixtos\n",
    "\n",
    "Por motivos de recursos computacionales se optimiza el modelo XGBoost y no el modelo de efectos mixtos. Luego el mejor conjunto de hyperparámetros se utiliza para entrenar y testear el modelo final de efectos mixtos.\n",
    "\n",
    "Para la optimización de hyperparámetros, se utiliza aquel set de hyperparámetros que maximiza el r2 score promedio de validación (datos de Noviembre 2019) de 3 folds del modelo entrenado hasta octubre 2019."
   ]
  },
  {
   "cell_type": "code",
   "execution_count": 27,
   "metadata": {},
   "outputs": [],
   "source": [
    "def transform(X,y):\n",
    "    clusters = X.reset_index()['ID']\n",
    "    Z = np.ones((X.shape[0], 1))\n",
    "    return X.reset_index().iloc[:,3:], Z, clusters, y.reset_index().iloc[:,-1]\n",
    "\n",
    "\n",
    "df_02 = df_02.dropna()\n",
    "\n",
    "X_train = df_02.loc[(slice(None),slice(None), slice('2019-01-01','2019-10-31')),:].drop(['venta_clp_dia', 'venta_unidades_dia'], axis = 1)\n",
    "y_train = df_02.loc[(slice(None),slice(None), slice('2019-01-01','2019-10-31')),'venta_clp_dia'] \n",
    "\n",
    "X_cv = df_02.loc[(slice(None),slice(None), slice('2019-11-30', None)),:].drop(['venta_clp_dia', 'venta_unidades_dia'], axis = 1)\n",
    "y_cv = df_02.loc[(slice(None),slice(None), slice('2019-11-30', None)),'venta_clp_dia']\n",
    "\n",
    "\n",
    "X_test = df_02.loc[(slice(None),slice(None), slice('2019-12-01', None)),:].drop(['venta_clp_dia', 'venta_unidades_dia'], axis = 1)\n",
    "y_test = df_02.loc[(slice(None),slice(None), slice('2019-12-01', None)),'venta_clp_dia']\n",
    "\n",
    "\n",
    "\n",
    "# #Calibración de hiperparámetros\n",
    "# grid = {'n_estimators':[300,500,1000],#,1250,1500], \n",
    "#              'max_depth':[3,6,9],#,12,15],\n",
    "#               'n_jobs':[-1],\n",
    "#               'learning_rate': np.logspace(0,-4,5),\n",
    "#        'tree_method': ['gpu_hist']}\n",
    "\n",
    "# # opt = GridSearch(model = XGBRegressor(),param_grid = grid,parallelize = True)\n",
    "# # print('Optimizing XGBoost hyperparameters according to specified grid')\n",
    "# # opt.fit(X_train, y_train, X_cv, y_cv)\n",
    "# # print('Validation R2 Score for Optimized Parameters: {:.2f}'.format(opt.score(X_cv, y_cv)))\n",
    "# # print('Best params: {}'.format(opt.best_params))\n",
    "\n",
    "\n",
    "\n",
    "#Data transform for mixed effect model.\n",
    "X_train, Z_train, clusters_train, y_train = transform(X_train, y_train)\n",
    "X_test, Z_test, clusters_test, y_test = transform(X_test, y_test)\n",
    "\n",
    "# print('Training mixed effects model...')\n",
    "# #merf = MERF(XGBRegressor(**opt.best_params),max_iterations=20).fit(X_train, Z_train, clusters_train, y_train)\n",
    "\n",
    "\n",
    "#Manual fitting\n",
    "# manual_params = {'n_estimators':1000,\n",
    "#              'max_depth':3,\n",
    "#               'n_jobs':-1,\n",
    "#               'learning_rate': 0.05,\n",
    "#        'tree_method': 'gpu_hist'}\n",
    "\n",
    "# merf = MERF(XGBRegressor(**manual_params),max_iterations=20).fit(X_train, Z_train, clusters_train, y_train)\n",
    "\n",
    "#Model evaluation\n",
    "# preds_train = merf.predict(X_train, Z_train, clusters_train)\n",
    "# preds_test = merf.predict(X_test, Z_test, clusters_test)\n",
    "# print('R2 train: {:.2f}\\nR2 test: {:.2f}\\n'.format(r2_score(y_train,preds_train), r2_score(y_test,preds_test)))\n",
    "\n",
    "# #Saving model\n",
    "# pickle.dump(merf, open('merf_model_2.pkl', 'wb'))\n",
    "\n",
    "# #Saving grid search object\n",
    "# pickle.dump(opt, open('grid_search_object_2.pkl', 'wb'))\n"
   ]
  },
  {
   "cell_type": "code",
   "execution_count": 28,
   "metadata": {},
   "outputs": [],
   "source": [
    "#Load model & gridsearch object\n",
    "merf = pickle.load(open('merf_model_2.pkl', 'rb')) #R2 train: 0.90\n",
    "                                                   #R2 test - ex-post: 0.90\n",
    "    \n",
    "#opt = pickle.load(open('grid_search_object.pkl', 'rb'))\n",
    "preds_train = merf.predict(X_train, Z_train, clusters_train)\n",
    "preds_test = merf.predict(X_test, Z_test, clusters_test)"
   ]
  },
  {
   "cell_type": "code",
   "execution_count": 29,
   "metadata": {},
   "outputs": [
    {
     "name": "stdout",
     "output_type": "stream",
     "text": [
      "R2 train:                                  0.90\n",
      "R2 test, ex-post:                          0.90\n",
      "MAPE train:                                2.37\n",
      "MAPE train with removal of 1% of outliers: 0.35\n",
      "MAPE test, ex-post:                        0.60\n",
      "MAPE test with removal of 1% of outliers:  0.41\n"
     ]
    }
   ],
   "source": [
    "print('R2 train:                                  {:.2f}'.format(r2_score(y_train,preds_train)))\n",
    "print('R2 test, ex-post:                          {:.2f}'.format(r2_score(y_train,preds_train)))\n",
    "\n",
    "aux = (np.abs(y_train-preds_train)/y_train).replace(np.inf,np.nan).dropna()\n",
    "\n",
    "\n",
    "print('MAPE train:                                {:.2f}'.format(aux.mean()))\n",
    "print('MAPE train with removal of 1% of outliers: {:.2f}'.format(aux[aux< np.percentile(aux.values, 99)].mean()))\n",
    "\n",
    "\n",
    "aux = (np.abs(y_test-preds_test)/y_test).replace(np.inf,np.nan).dropna()\n",
    "print('MAPE test, ex-post:                        {:.2f}'.format(aux.mean()))\n",
    "print('MAPE test with removal of 1% of outliers:  {:.2f}'.format(aux[aux< np.percentile(aux.values, 99)].mean()))"
   ]
  },
  {
   "cell_type": "markdown",
   "metadata": {},
   "source": [
    "El modelo posee un rendimiento deficiente en un porcentaje mínimo de observaciones a las que se les denominó outliers. Son outliers en términos del pronóstico, no necesariamente de acuerdo con la distribución de la serie a la que pertenece esa observación. Por temas de tiempo no se alcanza a hacer ese análisis, pero es relevante realizarlo en el futuro para así determinar qué causa esta deficiencia en rendimiento para poder corregirla; ya sea mediante un ajuste del modelo a datos filtrados de outliers o incorporación de variables o transformaciones de variables explicativas que puedan hacerlo robusto a estos escenarios."
   ]
  },
  {
   "cell_type": "markdown",
   "metadata": {},
   "source": [
    "Pronóstico ex-ante (secuencial mediante ciclo iterativo). Debido a la forma en la que se formuló el modelo (autorregresivo hasta 7 días), para simular un escenario real de aplicación se debe pronosticar un único día en el futuro y luego utilizar este pronóstico como el valor autorregresivo de primer orden en el segundo día y así sucesivamente. Debido a que los errores se comienzan a propagar y amplificar en el futuro, mientras mayor sea el horizonte de pronóstico, menor será el desempeño del modelo."
   ]
  },
  {
   "cell_type": "code",
   "execution_count": 30,
   "metadata": {
    "scrolled": true
   },
   "outputs": [],
   "source": [
    "#Sequential Forecast\n",
    "\n",
    "\n",
    "# pbar = progressbar.ProgressBar(maxval=X_test.shape[0],\n",
    "#                                widgets=[progressbar.Bar('=', '[', ']'), ' ', progressbar.Percentage()])\n",
    "\n",
    "# k = 0\n",
    "# pbar.start()\n",
    "\n",
    "# #To assure avoiding lexsort issues decreasing performance.\n",
    "# #df_02 = df_02.sort_index(level = [0,1,2])\n",
    "\n",
    "# #Step needed to have easy acces to test indexes.\n",
    "# X_test = df_02.loc[(slice(None),slice(None), slice('2019-12-01', None)),:].drop(['venta_clp_dia', 'venta_unidades_dia'], axis = 1)\n",
    "# y_test = df_02.loc[(slice(None),slice(None), slice('2019-12-01', None)),'venta_clp_dia']\n",
    "\n",
    "# X_test_ex_ante = X_test.copy()\n",
    "# y_test_ex_ante = y_test.copy()\n",
    "\n",
    "series = df_02.index.droplevel(2).drop_duplicates()\n",
    "\n",
    "# for serie in series:\n",
    "#     X_serie = X_test_ex_ante.loc[(serie[0],serie[1],slice(None)),:]\n",
    "#     y_serie = X_test_ex_ante.loc[(serie[0],serie[1],slice(None)),:]\n",
    "#     X, Z, clusters, y = transform(X_serie, y_serie) #Formatting to suit merf inputs.\n",
    "\n",
    "#     for i in range(X.shape[0]):\n",
    "#         #Formatting to suit one sample prediction.\n",
    "#         aux_df = pd.DataFrame(X.iloc[i:i+1].values.reshape(1,-1), columns = X.columns)\n",
    "#         temp = merf.predict(aux_df, Z[i:i+1], pd.Series(clusters[i:i+1]))\n",
    "\n",
    "#         date_index = X_test_ex_ante.loc[(serie[0], serie[1], slice(None)),:].index.get_level_values(level = 2)[i]\n",
    "\n",
    "#         for j in range(1,8): #propagation of temp prediction to all lagged periods.\n",
    "#             try:\n",
    "#                 X_test_ex_ante.loc[(serie[0],serie[1],date_index + timedelta(days=j)),\n",
    "#                                    'venta_clp_dia - lag{}'.format(j)] = temp\n",
    "#                 #print('success!')\n",
    "#             except Exception as e: \n",
    "#                 print(e)\n",
    "#                 continue\n",
    "#         k=k+1\n",
    "#         pbar.update(k)\n",
    "    \n",
    "# pbar.finish()\n",
    "\n",
    "# X_test_ex_ante = X_test_ex_ante.dropna() #Porque se vuelven a añadir filas con valores incompletos que \n",
    "# X_test_ex_ante.index = X_test.index      #habían sido removidas anteriormente.\n",
    "\n",
    "# X_test_ex_ante, Z_test_ex_ante, clusters_test_ex_ante, y = transform(X_test_ex_ante.dropna(), y_test_ex_ante)\n",
    "# preds_test_ex_ante = merf.predict(X_test_ex_ante, Z_test_ex_ante, clusters_test_ex_ante)\n",
    "\n",
    "\n",
    "#Saving sequential predictions list\n",
    "# preds = pd.DataFrame({'y_test_ex_post':preds_test,\n",
    "#                       'y_test_ex_ante':preds_test_ex_ante,\n",
    "#                      'y_true': y_test,\n",
    "#                      'is_promo': X_test.is_promo}, \n",
    "#                             index = df_02.loc[(slice(None),slice(None), slice('2019-12-01', None)),:].index)\n",
    "\n",
    "\n",
    "# preds.to_csv('preds.csv')"
   ]
  },
  {
   "cell_type": "code",
   "execution_count": 31,
   "metadata": {},
   "outputs": [
    {
     "data": {
      "text/html": [
       "<div>\n",
       "<style scoped>\n",
       "    .dataframe tbody tr th:only-of-type {\n",
       "        vertical-align: middle;\n",
       "    }\n",
       "\n",
       "    .dataframe tbody tr th {\n",
       "        vertical-align: top;\n",
       "    }\n",
       "\n",
       "    .dataframe thead th {\n",
       "        text-align: right;\n",
       "    }\n",
       "</style>\n",
       "<table border=\"1\" class=\"dataframe\">\n",
       "  <thead>\n",
       "    <tr style=\"text-align: right;\">\n",
       "      <th></th>\n",
       "      <th></th>\n",
       "      <th></th>\n",
       "      <th>y_test_ex_post</th>\n",
       "      <th>y_test_ex_ante</th>\n",
       "      <th>y_true</th>\n",
       "      <th>is_promo</th>\n",
       "    </tr>\n",
       "    <tr>\n",
       "      <th>ID</th>\n",
       "      <th>cadena</th>\n",
       "      <th>fecha</th>\n",
       "      <th></th>\n",
       "      <th></th>\n",
       "      <th></th>\n",
       "      <th></th>\n",
       "    </tr>\n",
       "  </thead>\n",
       "  <tbody>\n",
       "    <tr>\n",
       "      <th rowspan=\"5\" valign=\"top\">0</th>\n",
       "      <th rowspan=\"5\" valign=\"top\">0</th>\n",
       "      <th>2019-12-01</th>\n",
       "      <td>202981.660</td>\n",
       "      <td>202981.660</td>\n",
       "      <td>200928.0</td>\n",
       "      <td>0.0</td>\n",
       "    </tr>\n",
       "    <tr>\n",
       "      <th>2019-12-02</th>\n",
       "      <td>124230.650</td>\n",
       "      <td>124230.650</td>\n",
       "      <td>131859.0</td>\n",
       "      <td>0.0</td>\n",
       "    </tr>\n",
       "    <tr>\n",
       "      <th>2019-12-03</th>\n",
       "      <td>105965.320</td>\n",
       "      <td>100542.430</td>\n",
       "      <td>133952.0</td>\n",
       "      <td>0.0</td>\n",
       "    </tr>\n",
       "    <tr>\n",
       "      <th>2019-12-04</th>\n",
       "      <td>106030.266</td>\n",
       "      <td>88097.640</td>\n",
       "      <td>125580.0</td>\n",
       "      <td>0.0</td>\n",
       "    </tr>\n",
       "    <tr>\n",
       "      <th>2019-12-05</th>\n",
       "      <td>110006.195</td>\n",
       "      <td>96905.195</td>\n",
       "      <td>159068.0</td>\n",
       "      <td>0.0</td>\n",
       "    </tr>\n",
       "  </tbody>\n",
       "</table>\n",
       "</div>"
      ],
      "text/plain": [
       "                      y_test_ex_post  y_test_ex_ante    y_true  is_promo\n",
       "ID cadena fecha                                                         \n",
       "0  0      2019-12-01      202981.660      202981.660  200928.0       0.0\n",
       "          2019-12-02      124230.650      124230.650  131859.0       0.0\n",
       "          2019-12-03      105965.320      100542.430  133952.0       0.0\n",
       "          2019-12-04      106030.266       88097.640  125580.0       0.0\n",
       "          2019-12-05      110006.195       96905.195  159068.0       0.0"
      ]
     },
     "execution_count": 31,
     "metadata": {},
     "output_type": "execute_result"
    }
   ],
   "source": [
    "preds = pd.read_csv('preds.csv')\n",
    "preds.fecha = pd.to_datetime(preds.fecha, errors = 'raise')\n",
    "preds.set_index(['ID','cadena','fecha'], inplace = True)\n",
    "preds.head()"
   ]
  },
  {
   "cell_type": "code",
   "execution_count": 32,
   "metadata": {},
   "outputs": [],
   "source": [
    "# pbar = progressbar.ProgressBar(maxval=1000,widgets=[progressbar.Bar('=', '[', ']'), ' ', progressbar.Percentage()])\n",
    "# pbar.start()\n",
    "# j = 0\n",
    "# for serie in series: \n",
    "    \n",
    "#     plt.close()\n",
    "#     fig, ax  = plt.subplots(figsize = (15,6))\n",
    "\n",
    "#     aux = preds.loc[(serie[0], serie[1], slice(None)),:]\n",
    "#     aux.index = aux.index.droplevel([0,1])\n",
    "\n",
    "#     ax.plot(aux.index, aux.y_true, 'k', label = 'Sales', alpha = 0.5)\n",
    "#     ax.plot(aux.index, aux.y_test_ex_post, 'r', label = 'Forecasted Sales (ex-post)', alpha = 0.5)\n",
    "#     ax.plot(aux.index, aux.y_test_ex_ante, 'b', label = 'Forecasted Sales (ex-ante)', alpha = 0.5)\n",
    "#     #rolling_avg = aux.rolling(window = 7).mean()\n",
    "#     #ax.plot(rolling_avg.index, rolling_avg.venta_clp_dia,'b-', label = '7-day sales rolling average')\n",
    "#     ax.set_xlabel('December')\n",
    "\n",
    "#     #ax.set_ylabel('Sales [clp]')\n",
    "#     day_fmt = mpl.dates.DateFormatter('%d')\n",
    "#     ax.xaxis.set_major_formatter(day_fmt)\n",
    "#     ax.yaxis.set_major_formatter(plt.FuncFormatter(lambda x, p: format(int(x), ',')))\n",
    "#     promo = aux.is_promo.shift()-aux.is_promo\n",
    "#     for i in range(promo[promo==1].shape[0]):\n",
    "#         if promo[promo==1].shape[0] == 0: break\n",
    "#         if i == 0: \n",
    "#             try:ax.axvspan(promo[promo==1].index[i], promo[promo==-1].index[i], alpha=0.1, color='red', label ='Promotion period')\n",
    "#             except: ax.axvspan(promo[promo==1].index[i], aux.index[-1], alpha=0.1, color='red', label = 'Promotion period')\n",
    "#         else: \n",
    "#             try:ax.axvspan(promo[promo==1].index[i], promo[promo==-1].index[i], alpha=0.1, color='red')\n",
    "#             except: ax.axvspan(promo[promo==1].index[i], aux.index[-1], alpha=0.1, color='red')\n",
    "\n",
    "#     plt.legend()\n",
    "#     plt.title('Sales & Forecasted sales [CLP] of product \\'{}\\' in chain \\'{}\\' and promotion effect'.format(serie[0],serie[1]));\n",
    "    \n",
    "#     plt.savefig('Out-of-sample model performance\\Raw series\\individual serie{},{}.png'.format(serie[0],serie[1]))\n",
    "#     j = j+1\n",
    "#     pbar.update(j)\n",
    "# pbar.finish()"
   ]
  },
  {
   "cell_type": "code",
   "execution_count": 33,
   "metadata": {},
   "outputs": [],
   "source": [
    "# pbar = progressbar.ProgressBar(maxval=1000,widgets=[progressbar.Bar('=', '[', ']'), ' ', progressbar.Percentage()])\n",
    "# pbar.start()\n",
    "# j = 0\n",
    "# for serie in series: \n",
    "    \n",
    "#     plt.close()\n",
    "#     fig, ax  = plt.subplots(figsize = (15,6))\n",
    "\n",
    "#     aux = preds.loc[(serie[0], serie[1], slice(None)),:]\n",
    "#     aux.index = aux.index.droplevel([0,1])\n",
    "\n",
    "#     ax.plot(aux.index, aux.y_true.rolling(window=7).mean(), 'k', label = '7-day Sales rolling average', alpha = 0.5)\n",
    "#     ax.plot(aux.index, aux.y_test_ex_post.rolling(window=7).mean(), 'r', label = '7-day Forecasted Sales (ex-post) rolling average', alpha = 0.5)\n",
    "#     ax.plot(aux.index, aux.y_test_ex_ante.rolling(window=7).mean(), 'b', label = '7-day Forecasted Sales (ex-ante) rolling average', alpha = 0.5)\n",
    "#     #rolling_avg = aux.rolling(window = 7).mean()\n",
    "#     #ax.plot(rolling_avg.index, rolling_avg.venta_clp_dia,'b-', label = '7-day sales rolling average')\n",
    "#     ax.set_xlabel('December')\n",
    "\n",
    "#     #ax.set_ylabel('Sales [clp]')\n",
    "#     day_fmt = mpl.dates.DateFormatter('%d')\n",
    "#     ax.xaxis.set_major_formatter(day_fmt)\n",
    "#     ax.yaxis.set_major_formatter(plt.FuncFormatter(lambda x, p: format(int(x), ',')))\n",
    "#     promo = aux.is_promo.shift()-aux.is_promo\n",
    "#     for i in range(promo[promo==1].shape[0]):\n",
    "#         if promo[promo==1].shape[0] == 0: break\n",
    "#         if i == 0: \n",
    "#             try:ax.axvspan(promo[promo==1].index[i], promo[promo==-1].index[i], alpha=0.1, color='red', label ='Promotion period')\n",
    "#             except: ax.axvspan(promo[promo==1].index[i], aux.index[-1], alpha=0.1, color='red', label = 'Promotion period')\n",
    "#         else: \n",
    "#             try:ax.axvspan(promo[promo==1].index[i], promo[promo==-1].index[i], alpha=0.1, color='red')\n",
    "#             except: ax.axvspan(promo[promo==1].index[i], aux.index[-1], alpha=0.1, color='red')\n",
    "\n",
    "#     plt.legend()\n",
    "#     plt.title('Sales & Forecasted sales [CLP] 7-day rolling average of product \\'{}\\' in chain \\'{}\\' and promotion effect'.format(serie[0],serie[1]));\n",
    "    \n",
    "#     plt.savefig('Out-of-sample model performance\\Rolling averages\\individual serie{},{}.png'.format(serie[0],serie[1]))\n",
    "#     j = j+1\n",
    "#     pbar.update(j)\n",
    "# pbar.finish()"
   ]
  },
  {
   "cell_type": "code",
   "execution_count": 34,
   "metadata": {},
   "outputs": [],
   "source": [
    "r2_ex_ante = []  #coefficient of determination\n",
    "MAE_ex_ante = [] #mean absolute error. For direct interpretation of the global model.\n",
    "MAPE_ex_ante = []#To correct MAE heterogeneity across series.\n",
    "\n",
    "for date in pd.date_range('2019-12-01', end = '2019-12-31'):\n",
    "    y_true = preds.loc[(slice(None),slice(None),slice('2019-12-01',date.date().strftime('%Y-%m-%d'))), 'y_true']\n",
    "    y_hat = preds.loc[(slice(None),slice(None),slice('2019-12-01',date.date().strftime('%Y-%m-%d'))), 'y_test_ex_ante']\n",
    "    \n",
    "    r2_ex_ante.append(r2_score(y_true,y_hat))\n",
    "    MAE_ex_ante.append(mean_absolute_error(y_true,y_hat)) \n",
    "                                                          \n",
    "#Dado la heterogeneidad de las series (magnitud de las ventas) la interpretación  \n",
    "#del MAE puede ser confusa, por lo que la estandarización de esta métrica puede ser de gran utilidad.\n",
    "\n",
    "    MAPE_ex_ante.append((np.abs(y_true-y_hat)/y_hat).sum()/y_true.shape[0])\n",
    "    \n",
    "metrics_ex_ante = pd.DataFrame({'r2':r2_ex_ante,\n",
    "                               'MAE':MAE_ex_ante,\n",
    "                               'MAPE': MAPE_ex_ante}, index = pd.date_range('2019-12-01', end = '2019-12-31'))\n",
    "metrics_ex_ante.rename_axis('Forecast horizon', inplace = True)"
   ]
  },
  {
   "cell_type": "code",
   "execution_count": 35,
   "metadata": {},
   "outputs": [
    {
     "data": {
      "image/png": "[encoded data removed]",
      "text/plain": [
       "<Figure size 864x432 with 2 Axes>"
      ]
     },
     "metadata": {
      "needs_background": "light"
     },
     "output_type": "display_data"
    }
   ],
   "source": [
    "fig, ax1 = plt.subplots(figsize=(12,6))\n",
    "ax2 = ax1.twinx()\n",
    "ax1.plot(metrics_ex_ante.index, metrics_ex_ante.r2, 'r', label = 'R2')\n",
    "ax2.plot(metrics_ex_ante.index, metrics_ex_ante.MAPE*100, 'b', label = 'MAPE')\n",
    "\n",
    "date_fmt = mpl.dates.DateFormatter('%d')\n",
    "ax1.xaxis.set_major_formatter(date_fmt)\n",
    "\n",
    "ax1.set_title('Out-of-sample Performance Metrics vs Forecast Horizon')\n",
    "ax1.set_ylabel('R2')\n",
    "ax2.set_ylabel('MAPE')\n",
    "\n",
    "ax1.set_ylim((0,1))\n",
    "ax2.set_ylim((0,100))\n",
    "\n",
    "\n",
    "ax2.yaxis.set_major_formatter(mpl.ticker.PercentFormatter())\n",
    "\n",
    "ax1.set_xlabel('December 2019')\n",
    "\n",
    "plt.legend([ax1.get_children()[0],ax2.get_children()[0]], ['R2', 'MAPE'], loc =6);\n",
    "#plt.savefig('Out-of-sample_performance_metrics_vs_forecast_horizon.png', dpi =1000)"
   ]
  },
  {
   "cell_type": "markdown",
   "metadata": {},
   "source": [
    "Como cometario adicional, viendo el comportamiento del modelo, se propone evaluar una metodología que fuerce el pronóstico a un valor positivo. Se estima que una programación manual del output del modelo podría ser suficiente para estos escenarios."
   ]
  },
  {
   "cell_type": "code",
   "execution_count": 36,
   "metadata": {},
   "outputs": [
    {
     "data": {
      "image/png": "[encoded data removed]",
      "text/plain": [
       "<Figure size 1512x432 with 14 Axes>"
      ]
     },
     "metadata": {
      "needs_background": "light"
     },
     "output_type": "display_data"
    }
   ],
   "source": [
    "#Desempeño por producto\n",
    "#Desempeño por cadena\n",
    "preds['absolute_pct_err_ex_ante'] = (preds.y_true-preds.y_test_ex_ante).apply(np.abs)/preds.y_true\n",
    "aux = preds.replace(np.inf,np.nan)\n",
    "\n",
    "grid = sns.FacetGrid(aux.reset_index(), row=\"is_promo\", col=\"cadena\", margin_titles=True)\n",
    "grid.map(plt.hist, \"absolute_pct_err_ex_ante\", bins=np.linspace(0, 5, 15));"
   ]
  },
  {
   "cell_type": "markdown",
   "metadata": {},
   "source": [
    "No hay suficientes observaciones en el set de testeo para evaluar el impacto de las promociones en la precisión del modelo. Por otra parte, se observa que la distribución del error porcentual absoluto es similar en todas las cadenas. Se hará el mismo análisis con los datos de entrenamiento, sin embargo, estos se deben interpretar con cautela."
   ]
  },
  {
   "cell_type": "code",
   "execution_count": 37,
   "metadata": {},
   "outputs": [
    {
     "data": {
      "image/png": "[encoded data removed]",
      "text/plain": [
       "<Figure size 1512x432 with 14 Axes>"
      ]
     },
     "metadata": {
      "needs_background": "light"
     },
     "output_type": "display_data"
    }
   ],
   "source": [
    "df_train = df_02.loc[(slice(None),slice(None), slice('2019-01-01','2019-10-31')),:].copy()\n",
    "df_train.loc[(slice(None),slice(None),slice(None)),'y_hat'] = preds_train\n",
    "df_train.loc[(slice(None),slice(None),slice(None)),'absolute_pct_err_ex_ante'] = (df_train.venta_clp_dia-df_train.y_hat).apply(np.abs)/df_train.venta_clp_dia\n",
    "\n",
    "grid = sns.FacetGrid(df_train.reset_index(), row=\"is_promo\", col=\"cadena\", margin_titles=True)\n",
    "grid.map(plt.hist, \"absolute_pct_err_ex_ante\", bins=np.linspace(0, 5, 15));\n",
    "# aux.index = df_02.loc[(slice(None),slice(None),slice('2019-04-16','2019-10-31')),:].index"
   ]
  },
  {
   "cell_type": "markdown",
   "metadata": {},
   "source": [
    "La distribución del error porcentual absoluto es muy similar a la del set de testeo y similar entre las cadenas, por lo que es posible afirmar que el modelo logra generalizar de forma adecuada las tendencias temporales independiente de las cadenas y si está en promoción o no."
   ]
  }
 ],
 "metadata": {
  "colab": {
   "authorship_tag": "ABX9TyMC059pesObMwthJ3aHw+/4",
   "collapsed_sections": [],
   "name": "challenge.ipynb",
   "provenance": []
  },
  "kernelspec": {
   "display_name": "Python 3",
   "language": "python",
   "name": "python3"
  },
  "language_info": {
   "codemirror_mode": {
    "name": "ipython",
    "version": 3
   },
   "file_extension": ".py",
   "mimetype": "text/x-python",
   "name": "python",
   "nbconvert_exporter": "python",
   "pygments_lexer": "ipython3",
   "version": "3.8.3"
  }
 },
 "nbformat": 4,
 "nbformat_minor": 1
}
